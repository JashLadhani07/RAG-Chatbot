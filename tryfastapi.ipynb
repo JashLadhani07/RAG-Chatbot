{
 "cells": [
  {
   "cell_type": "code",
   "execution_count": null,
   "id": "2d084ae4-6b23-4c42-b37f-9ed92ec9bf38",
   "metadata": {},
   "outputs": [],
   "source": [
    "!pip install fastapi\n",
    "!pip install uvicorn\n",
    "!pip install nest_asyncio\n",
    "!pip install requests"
   ]
  },
  {
   "cell_type": "code",
   "execution_count": 1,
   "id": "e53d2854-a078-413a-bba2-b1cea233cfa3",
   "metadata": {},
   "outputs": [],
   "source": [
    "from fastapi import FastAPI\n",
    "import uvicorn\n",
    "import requests\n",
    "import nest_asyncio"
   ]
  },
  {
   "cell_type": "code",
   "execution_count": 13,
   "id": "9e43d278-3295-4755-98f3-355a40c86a25",
   "metadata": {},
   "outputs": [],
   "source": [
    "app = FastAPI()"
   ]
  },
  {
   "cell_type": "code",
   "execution_count": null,
   "id": "478fe7ac-32a8-4373-8e2d-625aaaa234a4",
   "metadata": {},
   "outputs": [],
   "source": [
    "@app.get(\"/hello/{name}\")\n",
    "async def hello(name: str):  # Type annotation is important\n",
    "    return f\"Welcome {name}\"\n",
    "nest_asyncio.apply()\n",
    "uvicorn.run(app, host=\"127.0.0.1\", port=8000)"
   ]
  },
  {
   "cell_type": "code",
   "execution_count": null,
   "id": "ebb35622-ec38-49d6-be7f-ac37f87a388b",
   "metadata": {},
   "outputs": [
    {
     "name": "stderr",
     "output_type": "stream",
     "text": [
      "INFO:     Started server process [9240]\n",
      "INFO:     Waiting for application startup.\n",
      "INFO:     Application startup complete.\n",
      "INFO:     Uvicorn running on http://127.0.0.1:8000 (Press CTRL+C to quit)\n"
     ]
    },
    {
     "name": "stdout",
     "output_type": "stream",
     "text": [
      "INFO:     127.0.0.1:61459 - \"GET / HTTP/1.1\" 404 Not Found\n",
      "INFO:     127.0.0.1:61459 - \"GET / HTTP/1.1\" 404 Not Found\n",
      "INFO:     127.0.0.1:55839 - \"GET /docs HTTP/1.1\" 200 OK\n",
      "INFO:     127.0.0.1:55839 - \"GET /openapi.json HTTP/1.1\" 200 OK\n",
      "INFO:     127.0.0.1:49327 - \"GET /docs HTTP/1.1\" 200 OK\n",
      "INFO:     127.0.0.1:49327 - \"GET /openapi.json HTTP/1.1\" 200 OK\n",
      "INFO:     127.0.0.1:49678 - \"GET /get_items/american HTTP/1.1\" 200 OK\n",
      "INFO:     127.0.0.1:58939 - \"GET /redoc HTTP/1.1\" 200 OK\n",
      "INFO:     127.0.0.1:58939 - \"GET /openapi.json HTTP/1.1\" 200 OK\n"
     ]
    }
   ],
   "source": [
    "#Lets work on an example\n",
    "#You are managing a food delivery app like zomato\n",
    "from enum import Enum\n",
    "food_items = {\n",
    "    'indian' : [ \"Samosa\", \"Dosa\" ],\n",
    "    'american' : [ \"Hot Dog\", \"Apple Pie\"],\n",
    "    'italian' : [ \"Ravioli\", \"Pizza\"]\n",
    "}\n",
    "class AvailableCuisines(str, Enum):\n",
    "    indian = \"indian\"\n",
    "    american = \"american\"\n",
    "    italian = \"italian\"\n",
    "app = FastAPI()\n",
    "@app.get(\"/get_items/{cuisine}\")\n",
    "async def get_items(cuisine: AvailableCuisines):\n",
    "    return food_items.get(cuisine)\n",
    "nest_asyncio.apply()\n",
    "uvicorn.run(app, host=\"127.0.0.1\", port=8000)"
   ]
  },
  {
   "cell_type": "code",
   "execution_count": 15,
   "id": "da54a9ec-8008-4828-87ca-95e2813b1acc",
   "metadata": {},
   "outputs": [
    {
     "name": "stderr",
     "output_type": "stream",
     "text": [
      "INFO:     Started server process [9240]\n",
      "INFO:     Waiting for application startup.\n",
      "INFO:     Application startup complete.\n",
      "INFO:     Uvicorn running on http://127.0.0.1:8000 (Press CTRL+C to quit)\n"
     ]
    },
    {
     "name": "stdout",
     "output_type": "stream",
     "text": [
      "INFO:     127.0.0.1:56988 - \"GET /get_items/mexican HTTP/1.1\" 404 Not Found\n",
      "INFO:     127.0.0.1:61073 - \"GET /get_coupon/10 HTTP/1.1\" 200 OK\n",
      "INFO:     127.0.0.1:56360 - \"GET /get_coupon/10%25 HTTP/1.1\" 422 Unprocessable Entity\n",
      "INFO:     127.0.0.1:60988 - \"GET /get_coupon/10 HTTP/1.1\" 200 OK\n",
      "INFO:     127.0.0.1:63308 - \"GET /get_coupon/1 HTTP/1.1\" 200 OK\n",
      "INFO:     127.0.0.1:63308 - \"GET /get_coupon/2 HTTP/1.1\" 200 OK\n",
      "INFO:     127.0.0.1:63308 - \"GET /get_coupon/3 HTTP/1.1\" 200 OK\n"
     ]
    },
    {
     "name": "stderr",
     "output_type": "stream",
     "text": [
      "INFO:     Shutting down\n",
      "INFO:     Waiting for application shutdown.\n",
      "INFO:     Application shutdown complete.\n",
      "INFO:     Finished server process [9240]\n"
     ]
    }
   ],
   "source": [
    "coupon_code = {\n",
    "    1: '10%',\n",
    "    2: '20%',\n",
    "    3: '30%'\n",
    "}\n",
    "@app.get(\"/get_coupon/{code}\")\n",
    "async def get_items(code: int):\n",
    "    return { 'discount_amount': coupon_code.get(code) }\n",
    "nest_asyncio.apply()\n",
    "uvicorn.run(app, host=\"127.0.0.1\", port=8000)"
   ]
  },
  {
   "cell_type": "code",
   "execution_count": null,
   "id": "8ddbbe6d-8ecc-466d-a550-235e5893194d",
   "metadata": {},
   "outputs": [],
   "source": []
  }
 ],
 "metadata": {
  "kernelspec": {
   "display_name": "Python [conda env:base] *",
   "language": "python",
   "name": "conda-base-py"
  },
  "language_info": {
   "codemirror_mode": {
    "name": "ipython",
    "version": 3
   },
   "file_extension": ".py",
   "mimetype": "text/x-python",
   "name": "python",
   "nbconvert_exporter": "python",
   "pygments_lexer": "ipython3",
   "version": "3.12.7"
  }
 },
 "nbformat": 4,
 "nbformat_minor": 5
}
